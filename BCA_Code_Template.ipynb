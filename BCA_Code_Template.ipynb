{
  "nbformat": 4,
  "nbformat_minor": 0,
  "metadata": {
    "colab": {
      "provenance": []
    },
    "kernelspec": {
      "name": "python3",
      "display_name": "Python 3"
    },
    "language_info": {
      "name": "python"
    }
  },
  "cells": [
    {
      "cell_type": "markdown",
      "source": [
        "# **BCA Analysis Code 👩‍🔬🧪**\n",
        "\n",
        "Hi! I originally made this summer 2024, but decided to make this code more simplified, include more instructions and notes, and add visualizations to improve understanding!"
      ],
      "metadata": {
        "id": "uwBkZf13sc0N"
      }
    },
    {
      "cell_type": "markdown",
      "source": [
        "# 1. Set up"
      ],
      "metadata": {
        "id": "TfLsXIt6tj_i"
      }
    },
    {
      "cell_type": "code",
      "source": [
        "#import the necessary libraries\n",
        "import pandas as pd\n",
        "import numpy as np\n",
        "from scipy.stats import linregress\n",
        "import matplotlib.pyplot as plt"
      ],
      "metadata": {
        "id": "UZZLbJo2tV0p"
      },
      "execution_count": null,
      "outputs": []
    },
    {
      "cell_type": "code",
      "source": [
        "#read in the data\n",
        "\n",
        "#make a table with the column 1 = Cell_Type (including standards) and column 2 = Raw_Absorbance\n",
        "#download the raw data tab in excel as a CSV file\n",
        "#then upload the csv using the tabs to the right\n",
        "#click the three dots and click copy path\n",
        "#paste the path into the ''\n",
        "path_to_data = '.csv'\n",
        "data = pd.read_csv(path_to_data, sep = ',')"
      ],
      "metadata": {
        "id": "wgKJ4Ck8t_O8"
      },
      "execution_count": null,
      "outputs": []
    },
    {
      "cell_type": "code",
      "source": [
        "#take a look at the data\n",
        "data"
      ],
      "metadata": {
        "id": "TD_kagp4wFw5"
      },
      "execution_count": null,
      "outputs": []
    },
    {
      "cell_type": "markdown",
      "source": [
        "# 2. Normalize the Standards"
      ],
      "metadata": {
        "id": "48PLz3N9y9zn"
      }
    },
    {
      "cell_type": "code",
      "source": [
        "#subset the data to get the standards\n",
        "#note in python the indexing starts at 0 and the upper boundary is exclusive\n",
        "standards = data[0:]\n",
        "standards #look at the standards"
      ],
      "metadata": {
        "id": "7-LmNhe_zE0z"
      },
      "execution_count": null,
      "outputs": []
    },
    {
      "cell_type": "code",
      "source": [
        "#define a function that takes the raw absorbance of the 0 standard (iloc[0]) and subtracts that value from every other standard\n",
        "#calling this function will return an updated, normalized standards dataframe\n",
        "def normalize(dataframe, column):\n",
        "  dataframe = dataframe.copy() #make a copy of the dataframe to avoid modifying the original data\n",
        "  dataframe[column] = dataframe[column] - dataframe[column].iloc[0]\n",
        "  return dataframe"
      ],
      "metadata": {
        "id": "L0Qd65Jm1-SE"
      },
      "execution_count": null,
      "outputs": []
    },
    {
      "cell_type": "code",
      "source": [
        "#implement the function to normalize the standards\n",
        "#when implement this function call normalize(name of data frame, 'column name in data frame')\n",
        "#save as a new data frame\n",
        "normalized_standards = normalize(standards, 'Raw_Absorbance')\n",
        "normalized_standards #look at the normalized standards"
      ],
      "metadata": {
        "id": "UiK17NSq3ogW"
      },
      "execution_count": null,
      "outputs": []
    },
    {
      "cell_type": "code",
      "source": [
        "#linear regression\n",
        "#set x and y\n",
        "x = normalized_standards['Cell_Type'].astype('float64')\n",
        "y = normalized_standards['Raw_Absorbance'].astype('float64')\n",
        "\n",
        "#linear regression\n",
        "results = linregress(x,y)\n",
        "\n",
        "#extract the slope, intercept, and R Squared values\n",
        "slope_rounded, intercept_rounded, r_squared = round(results.slope, 7), round(results.intercept, 7), results.rvalue**2\n",
        "\n",
        "#print\n",
        "print('Slope:', slope_rounded)\n",
        "print('Intercept:', intercept_rounded)\n",
        "print('R^2:', r_squared)"
      ],
      "metadata": {
        "id": "-nDxQ_dy4Nvr"
      },
      "execution_count": null,
      "outputs": []
    },
    {
      "cell_type": "code",
      "source": [
        "#visualize linear regression\n",
        "x_line = np.linspace(x.min(), x.max(), 100)\n",
        "y_line = slope_rounded * x_line + intercept_rounded\n",
        "\n",
        "plt.figure(figsize=(9,6))\n",
        "plt.grid(True, linestyle='--', alpha=0.5)\n",
        "plt.scatter(x, y, color='deepskyblue', marker='*', s=100, alpha=0.8)\n",
        "plt.plot(x_line, y_line, color='green', linestyle = 'dashed', linewidth=1)\n",
        "equation_text = f'y = {slope_rounded}x + {intercept_rounded}\\n$R^2$ = {r_squared}'\n",
        "plt.text(0.18, 0.75, equation_text, transform=plt.gca().transAxes,\n",
        "         fontsize=12, bbox=dict(facecolor='aliceblue', alpha=0.5))\n",
        "plt.title('Visualization of Linear Regression', fontsize = 16)\n",
        "plt.xlabel('Standards', fontsize = 14)\n",
        "plt.ylabel('Raw Absorbance', fontsize = 14);"
      ],
      "metadata": {
        "id": "Z4N55FC37vi-"
      },
      "execution_count": null,
      "outputs": []
    },
    {
      "cell_type": "markdown",
      "source": [
        "\n",
        "#3. How Much IP Buffer and 4X Dye to Add to Each Sample"
      ],
      "metadata": {
        "id": "raxgs84jH1gJ"
      }
    },
    {
      "cell_type": "code",
      "source": [
        "#subset the original data frame to get only the samples\n",
        "BCA = data[:]\n",
        "BCA #look at the data"
      ],
      "metadata": {
        "id": "JCKZ_pbfFKPf"
      },
      "execution_count": null,
      "outputs": []
    },
    {
      "cell_type": "code",
      "source": [
        "#ABS\n",
        "#subtract the zero value from the samples and add a column with those values\n",
        "BCA = BCA.copy()\n",
        "zero_value = data['Raw_Absorbance'].loc[0]\n",
        "BCA.loc[:, 'ABS'] = BCA['Raw_Absorbance'] - zero_value\n",
        "BCA #look at dataframe"
      ],
      "metadata": {
        "id": "Q9qnsA4DFUwZ"
      },
      "execution_count": null,
      "outputs": []
    },
    {
      "cell_type": "code",
      "source": [
        "#protein amount (ng/ul)\n",
        "#calculate by using ABS values as x values in our equation\n",
        "BCA['Protein_Amount'] = (BCA['ABS'] - intercept_rounded)/ slope_rounded\n",
        "BCA"
      ],
      "metadata": {
        "id": "VSEBf-QEGBBU"
      },
      "execution_count": null,
      "outputs": []
    },
    {
      "cell_type": "code",
      "source": [
        "#2x Dye\n",
        "smallest_protein_amount = BCA['Protein_Amount'].min()\n",
        "BCA['2X_Dye'] = (BCA['Protein_Amount']/ smallest_protein_amount)* #input total volume put in lysate tube\n",
        "BCA"
      ],
      "metadata": {
        "id": "0EJVCr7nGO7G"
      },
      "execution_count": null,
      "outputs": []
    },
    {
      "cell_type": "code",
      "source": [
        "#IP Buffer (ul) and 4X dye need to add\n",
        "#Add column of total volume\n",
        "BCA['IP_Buffer'] = (BCA['2X_Dye'] - 40).round(2)\n",
        "BCA['4X_Dye'] = (BCA['2X_Dye'] / 3).round(2)\n",
        "BCA['Total_Volume'] = BCA['IP_Buffer']+ BCA['4X_Dye'] + #input total volume in lysate tube\n",
        "BCA\n"
      ],
      "metadata": {
        "id": "QvCWfSf2G-kt"
      },
      "execution_count": null,
      "outputs": []
    },
    {
      "cell_type": "markdown",
      "source": [
        "#4. How Many Blots Should I Run?"
      ],
      "metadata": {
        "id": "PnniC3W1IEpF"
      }
    },
    {
      "cell_type": "code",
      "source": [
        "#determine the maximum amount of protein if loaded 40 ul (maximum)\n",
        "protein = (smallest_protein_amount/1000) * .75 #amount of protein ug/ul\n",
        "protein_forty = protein * 40\n",
        "print('ug of Protein per ul:', protein)\n",
        "print('Protein amount in ug if loaded 40 ul:', protein_forty)"
      ],
      "metadata": {
        "id": "P2aWuKuEIIct"
      },
      "execution_count": null,
      "outputs": []
    },
    {
      "cell_type": "code",
      "source": [
        "#determine how much to load\n",
        "protein_to_load = protein * #change number based on how much protein you want to load\n",
        "print('If I load _ ul I will be loading', protein_to_load, 'ug of protein per well') #fill in number with amount loading"
      ],
      "metadata": {
        "id": "RQ1ijatPIf_e"
      },
      "execution_count": null,
      "outputs": []
    },
    {
      "cell_type": "code",
      "source": [
        "#determine how many blots can do\n",
        "smallest_volume = BCA['Total_Volume'].min()\n",
        "blots = smallest_volume/ #change based on how much want to load\n",
        "print('With loading _ ul I can run', blots, 'blots')"
      ],
      "metadata": {
        "id": "NmXLJHS4JrVL"
      },
      "execution_count": null,
      "outputs": []
    }
  ]
}